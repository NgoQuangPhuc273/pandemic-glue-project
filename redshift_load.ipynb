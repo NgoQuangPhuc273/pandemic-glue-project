{
 "cells": [
  {
   "cell_type": "code",
   "execution_count": 1,
   "metadata": {},
   "outputs": [],
   "source": [
    "import boto3\n",
    "import pandas as pd\n",
    "import time\n",
    "from io import StringIO #BytesIO\n",
    "import redshift_connector"
   ]
  },
  {
   "cell_type": "code",
   "execution_count": null,
   "metadata": {},
   "outputs": [],
   "source": [
    "# Set up connector\n",
    "\n",
    "conn = redshift_connector.connect(\n",
    "    host='redshit-cluster-2'\n",
    "    database='dev'\n",
    "    user='awsuser'\n",
    "    password='Password123'\n",
    ")\n",
    "\n",
    "conn.autocommit = True"
   ]
  },
  {
   "cell_type": "code",
   "execution_count": null,
   "metadata": {},
   "outputs": [],
   "source": [
    "# Set up cursor\n",
    "\n",
    "cursor = redshift_connector.Cursor = conn.cursor()"
   ]
  },
  {
   "cell_type": "code",
   "execution_count": null,
   "metadata": {},
   "outputs": [],
   "source": [
    "# Execution\n",
    "\n",
    "# Fact table\n",
    "cursor.execute(\n",
    "    \"\"\"\n",
    "    CREATE TABLE \"factCovid\" (\n",
    "        \"fips\" REAL,\n",
    "        \"province_state\" TEXT,\n",
    "        \"country_region\" TEXT,\n",
    "        \"confirmed\" REAL,\n",
    "        \"deaths\" REAL,\n",
    "        \"recovered\" REAL,\n",
    "        \"active\" REAL,\n",
    "        \"date\" REAL,\n",
    "        \"positive\" REAL,\n",
    "        \"negative\" REAL,\n",
    "        \"hospitalizedcurrently\" REAL,\n",
    "        \"hospitalized\" REAL,\n",
    "        \"hospitalizeddischarged\" REAL\n",
    "    )\n",
    "    \"\"\"\n",
    ")"
   ]
  },
  {
   "cell_type": "code",
   "execution_count": null,
   "metadata": {},
   "outputs": [],
   "source": [
    "# Dimension Tables\n",
    "cursor.execute(\n",
    "    \"\"\"\n",
    "    CREATE TABLE \"dimDate\" (\n",
    "        \"fips\" INTEGER,\n",
    "        \"date\" TIMESTAMP,\n",
    "        \"year\" INTEGER,\n",
    "        \"month\" INTEGER,\n",
    "        \"day_of_week\" INTEGER\n",
    "    )\n",
    "    \"\"\"\n",
    ")\n",
    "\n",
    "cursor.execute(\n",
    "    \"\"\"\n",
    "    CREATE TABLE \"dimHospital\" (\n",
    "        \"fips\" REAL,\n",
    "        \"province_state\" TEXT,\n",
    "        \"country_region\" TEXT,\n",
    "        \"latitude\" REAL,\n",
    "        \"longitude\" REAL\n",
    "    )\n",
    "    \"\"\"\n",
    ")\n",
    "\n",
    "cursor.execute(\n",
    "    \"\"\"\n",
    "    CREATE TABLE \"dimRegionsql\" (\n",
    "        \"fips\" REAL,\n",
    "        \"province_state\" TEXT,\n",
    "        \"country_region\" TEXT,\n",
    "        \"latitude\" REAL,\n",
    "        \"longitude\" REAL,\n",
    "        \"county\" TEXT,\n",
    "        \"state\" TEXT\n",
    "    )\n",
    "    \"\"\"\n",
    ")"
   ]
  }
 ],
 "metadata": {
  "kernelspec": {
   "display_name": "Python 3",
   "language": "python",
   "name": "python3"
  },
  "language_info": {
   "codemirror_mode": {
    "name": "ipython",
    "version": 3
   },
   "file_extension": ".py",
   "mimetype": "text/x-python",
   "name": "python",
   "nbconvert_exporter": "python",
   "pygments_lexer": "ipython3",
   "version": "3.11.2"
  },
  "orig_nbformat": 4
 },
 "nbformat": 4,
 "nbformat_minor": 2
}
