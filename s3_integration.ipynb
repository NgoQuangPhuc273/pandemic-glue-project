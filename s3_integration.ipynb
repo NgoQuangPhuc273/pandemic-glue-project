{
 "cells": [
  {
   "cell_type": "code",
   "execution_count": 39,
   "metadata": {},
   "outputs": [],
   "source": [
    "import boto3\n",
    "import pandas as pd\n",
    "import time\n",
    "from io import StringIO #BytesIO"
   ]
  },
  {
   "cell_type": "code",
   "execution_count": 40,
   "metadata": {},
   "outputs": [],
   "source": [
    "AWS_ACCESS_KEY = \"\"\n",
    "AWS_SECRET_KEY = \"\"\n",
    "AWS_REGION = \"us-east-1\"\n",
    "SCHEMA_NAME = \"covid_dataset\"\n",
    "S3_STAGING_DIR = \"s3://pngo-covid-athena-output/output/\"\n",
    "S3_BUCKET_NAME = \"pngo-covid-athena-output\"\n",
    "S3_OUTPUT_DIR= \"output\""
   ]
  },
  {
   "cell_type": "code",
   "execution_count": 41,
   "metadata": {},
   "outputs": [],
   "source": [
    "athena_client = boto3.client(\n",
    "    \"athena\",\n",
    "    aws_access_key_id = AWS_ACCESS_KEY,\n",
    "    aws_secret_access_key = AWS_SECRET_KEY,\n",
    "    region_name = AWS_REGION,\n",
    ")"
   ]
  },
  {
   "cell_type": "code",
   "execution_count": 42,
   "metadata": {},
   "outputs": [],
   "source": [
    "Dict = {}\n",
    "\n",
    "#download function \n",
    "def download_and_load_query_results (\n",
    "        client:boto3.client, \n",
    "        query_response:Dict\n",
    ")-> pd.DataFrame:\n",
    "    while True:\n",
    "        try: \n",
    "            # client.get_query_execution(QueryExecutionId = query_response[\"QueryExecutionId\"])\n",
    "            client.get_query_results(QueryExecutionId = query_response[\"QueryExecutionId\"])\n",
    "            break\n",
    "        except Exception as err:\n",
    "            if \"not yet finished\" in str(err):\n",
    "                time.sleep(0.001)\n",
    "            else:\n",
    "                raise err\n",
    "            \n",
    "    temp_file_location: str = \"athena_query_results.csv\"\n",
    "    s3_client = boto3.client(\n",
    "        \"s3\",\n",
    "        aws_access_key_id = AWS_ACCESS_KEY,\n",
    "        aws_secret_access_key = AWS_SECRET_KEY,\n",
    "        region_name = AWS_REGION,\n",
    "    )\n",
    "\n",
    "    s3_client.download_file(\n",
    "        S3_BUCKET_NAME,\n",
    "        f\"{S3_OUTPUT_DIR}/{query_response['QueryExecutionId']}.csv\",\n",
    "        temp_file_location,\n",
    "    )\n",
    "    return pd.read_csv(temp_file_location) "
   ]
  },
  {
   "cell_type": "code",
   "execution_count": 44,
   "metadata": {},
   "outputs": [
    {
     "ename": "ClientError",
     "evalue": "An error occurred (UnrecognizedClientException) when calling the StartQueryExecution operation: The security token included in the request is invalid.",
     "output_type": "error",
     "traceback": [
      "\u001b[1;31m---------------------------------------------------------------------------\u001b[0m",
      "\u001b[1;31mClientError\u001b[0m                               Traceback (most recent call last)",
      "Cell \u001b[1;32mIn[44], line 3\u001b[0m\n\u001b[0;32m      1\u001b[0m \u001b[39m#enigma_jhud download\u001b[39;00m\n\u001b[1;32m----> 3\u001b[0m response \u001b[39m=\u001b[39m athena_client\u001b[39m.\u001b[39;49mstart_query_execution(\n\u001b[0;32m      4\u001b[0m     QueryString \u001b[39m=\u001b[39;49m \u001b[39m\"\u001b[39;49m\u001b[39mSELECT * FROM enigma_jhud limit 10;\u001b[39;49m\u001b[39m\"\u001b[39;49m,\n\u001b[0;32m      5\u001b[0m     QueryExecutionContext \u001b[39m=\u001b[39;49m {\u001b[39m\"\u001b[39;49m\u001b[39mDatabase\u001b[39;49m\u001b[39m\"\u001b[39;49m: SCHEMA_NAME},\n\u001b[0;32m      6\u001b[0m     ResultConfiguration \u001b[39m=\u001b[39;49m {\n\u001b[0;32m      7\u001b[0m         \u001b[39m\"\u001b[39;49m\u001b[39mOutputLocation\u001b[39;49m\u001b[39m\"\u001b[39;49m: S3_STAGING_DIR,\n\u001b[0;32m      8\u001b[0m         \u001b[39m\"\u001b[39;49m\u001b[39mEncryptionConfiguration\u001b[39;49m\u001b[39m\"\u001b[39;49m: {\u001b[39m\"\u001b[39;49m\u001b[39mEncryptionOption\u001b[39;49m\u001b[39m\"\u001b[39;49m: \u001b[39m\"\u001b[39;49m\u001b[39mSSE_S3\u001b[39;49m\u001b[39m\"\u001b[39;49m},\n\u001b[0;32m      9\u001b[0m     },\n\u001b[0;32m     10\u001b[0m )\n\u001b[0;32m     12\u001b[0m engima_jhud \u001b[39m=\u001b[39m download_and_load_query_results(athena_client, response)\n\u001b[0;32m     13\u001b[0m engima_jhud\n",
      "File \u001b[1;32m~\\AppData\\Roaming\\Python\\Python311\\site-packages\\botocore\\client.py:530\u001b[0m, in \u001b[0;36mClientCreator._create_api_method.<locals>._api_call\u001b[1;34m(self, *args, **kwargs)\u001b[0m\n\u001b[0;32m    526\u001b[0m     \u001b[39mraise\u001b[39;00m \u001b[39mTypeError\u001b[39;00m(\n\u001b[0;32m    527\u001b[0m         \u001b[39mf\u001b[39m\u001b[39m\"\u001b[39m\u001b[39m{\u001b[39;00mpy_operation_name\u001b[39m}\u001b[39;00m\u001b[39m() only accepts keyword arguments.\u001b[39m\u001b[39m\"\u001b[39m\n\u001b[0;32m    528\u001b[0m     )\n\u001b[0;32m    529\u001b[0m \u001b[39m# The \"self\" in this scope is referring to the BaseClient.\u001b[39;00m\n\u001b[1;32m--> 530\u001b[0m \u001b[39mreturn\u001b[39;00m \u001b[39mself\u001b[39;49m\u001b[39m.\u001b[39;49m_make_api_call(operation_name, kwargs)\n",
      "File \u001b[1;32m~\\AppData\\Roaming\\Python\\Python311\\site-packages\\botocore\\client.py:960\u001b[0m, in \u001b[0;36mBaseClient._make_api_call\u001b[1;34m(self, operation_name, api_params)\u001b[0m\n\u001b[0;32m    958\u001b[0m     error_code \u001b[39m=\u001b[39m parsed_response\u001b[39m.\u001b[39mget(\u001b[39m\"\u001b[39m\u001b[39mError\u001b[39m\u001b[39m\"\u001b[39m, {})\u001b[39m.\u001b[39mget(\u001b[39m\"\u001b[39m\u001b[39mCode\u001b[39m\u001b[39m\"\u001b[39m)\n\u001b[0;32m    959\u001b[0m     error_class \u001b[39m=\u001b[39m \u001b[39mself\u001b[39m\u001b[39m.\u001b[39mexceptions\u001b[39m.\u001b[39mfrom_code(error_code)\n\u001b[1;32m--> 960\u001b[0m     \u001b[39mraise\u001b[39;00m error_class(parsed_response, operation_name)\n\u001b[0;32m    961\u001b[0m \u001b[39melse\u001b[39;00m:\n\u001b[0;32m    962\u001b[0m     \u001b[39mreturn\u001b[39;00m parsed_response\n",
      "\u001b[1;31mClientError\u001b[0m: An error occurred (UnrecognizedClientException) when calling the StartQueryExecution operation: The security token included in the request is invalid."
     ]
    }
   ],
   "source": [
    "#enigma_jhud download\n",
    "\n",
    "response = athena_client.start_query_execution(\n",
    "    QueryString = \"SELECT * FROM enigma_jhud limit 1000;\",\n",
    "    QueryExecutionContext = {\"Database\": SCHEMA_NAME},\n",
    "    ResultConfiguration = {\n",
    "        \"OutputLocation\": S3_STAGING_DIR,\n",
    "        \"EncryptionConfiguration\": {\"EncryptionOption\": \"SSE_S3\"},\n",
    "    },\n",
    ")\n",
    "\n",
    "engima_jhud = download_and_load_query_results(athena_client, response)\n",
    "engima_jhud"
   ]
  },
  {
   "cell_type": "code",
   "execution_count": 45,
   "metadata": {},
   "outputs": [
    {
     "ename": "ClientError",
     "evalue": "An error occurred (UnrecognizedClientException) when calling the StartQueryExecution operation: The security token included in the request is invalid.",
     "output_type": "error",
     "traceback": [
      "\u001b[1;31m---------------------------------------------------------------------------\u001b[0m",
      "\u001b[1;31mClientError\u001b[0m                               Traceback (most recent call last)",
      "Cell \u001b[1;32mIn[45], line 3\u001b[0m\n\u001b[0;32m      1\u001b[0m \u001b[39m#us_county download\u001b[39;00m\n\u001b[1;32m----> 3\u001b[0m response \u001b[39m=\u001b[39m athena_client\u001b[39m.\u001b[39;49mstart_query_execution(\n\u001b[0;32m      4\u001b[0m     QueryString \u001b[39m=\u001b[39;49m \u001b[39m\"\u001b[39;49m\u001b[39mSELECT * FROM us_county limit 1000;\u001b[39;49m\u001b[39m\"\u001b[39;49m,\n\u001b[0;32m      5\u001b[0m     QueryExecutionContext \u001b[39m=\u001b[39;49m {\u001b[39m\"\u001b[39;49m\u001b[39mDatabase\u001b[39;49m\u001b[39m\"\u001b[39;49m: SCHEMA_NAME},\n\u001b[0;32m      6\u001b[0m     ResultConfiguration \u001b[39m=\u001b[39;49m {\n\u001b[0;32m      7\u001b[0m         \u001b[39m\"\u001b[39;49m\u001b[39mOutputLocation\u001b[39;49m\u001b[39m\"\u001b[39;49m: S3_STAGING_DIR,\n\u001b[0;32m      8\u001b[0m         \u001b[39m\"\u001b[39;49m\u001b[39mEncryptionConfiguration\u001b[39;49m\u001b[39m\"\u001b[39;49m: {\u001b[39m\"\u001b[39;49m\u001b[39mEncryptionOption\u001b[39;49m\u001b[39m\"\u001b[39;49m: \u001b[39m\"\u001b[39;49m\u001b[39mSSE_S3\u001b[39;49m\u001b[39m\"\u001b[39;49m},\n\u001b[0;32m      9\u001b[0m     },\n\u001b[0;32m     10\u001b[0m )\n\u001b[0;32m     12\u001b[0m us_county \u001b[39m=\u001b[39m download_and_load_query_results(athena_client, response)\n",
      "File \u001b[1;32m~\\AppData\\Roaming\\Python\\Python311\\site-packages\\botocore\\client.py:530\u001b[0m, in \u001b[0;36mClientCreator._create_api_method.<locals>._api_call\u001b[1;34m(self, *args, **kwargs)\u001b[0m\n\u001b[0;32m    526\u001b[0m     \u001b[39mraise\u001b[39;00m \u001b[39mTypeError\u001b[39;00m(\n\u001b[0;32m    527\u001b[0m         \u001b[39mf\u001b[39m\u001b[39m\"\u001b[39m\u001b[39m{\u001b[39;00mpy_operation_name\u001b[39m}\u001b[39;00m\u001b[39m() only accepts keyword arguments.\u001b[39m\u001b[39m\"\u001b[39m\n\u001b[0;32m    528\u001b[0m     )\n\u001b[0;32m    529\u001b[0m \u001b[39m# The \"self\" in this scope is referring to the BaseClient.\u001b[39;00m\n\u001b[1;32m--> 530\u001b[0m \u001b[39mreturn\u001b[39;00m \u001b[39mself\u001b[39;49m\u001b[39m.\u001b[39;49m_make_api_call(operation_name, kwargs)\n",
      "File \u001b[1;32m~\\AppData\\Roaming\\Python\\Python311\\site-packages\\botocore\\client.py:960\u001b[0m, in \u001b[0;36mBaseClient._make_api_call\u001b[1;34m(self, operation_name, api_params)\u001b[0m\n\u001b[0;32m    958\u001b[0m     error_code \u001b[39m=\u001b[39m parsed_response\u001b[39m.\u001b[39mget(\u001b[39m\"\u001b[39m\u001b[39mError\u001b[39m\u001b[39m\"\u001b[39m, {})\u001b[39m.\u001b[39mget(\u001b[39m\"\u001b[39m\u001b[39mCode\u001b[39m\u001b[39m\"\u001b[39m)\n\u001b[0;32m    959\u001b[0m     error_class \u001b[39m=\u001b[39m \u001b[39mself\u001b[39m\u001b[39m.\u001b[39mexceptions\u001b[39m.\u001b[39mfrom_code(error_code)\n\u001b[1;32m--> 960\u001b[0m     \u001b[39mraise\u001b[39;00m error_class(parsed_response, operation_name)\n\u001b[0;32m    961\u001b[0m \u001b[39melse\u001b[39;00m:\n\u001b[0;32m    962\u001b[0m     \u001b[39mreturn\u001b[39;00m parsed_response\n",
      "\u001b[1;31mClientError\u001b[0m: An error occurred (UnrecognizedClientException) when calling the StartQueryExecution operation: The security token included in the request is invalid."
     ]
    }
   ],
   "source": [
    "#us_county download\n",
    "\n",
    "response = athena_client.start_query_execution(\n",
    "    QueryString = \"SELECT * FROM us_county limit 1000;\",\n",
    "    QueryExecutionContext = {\"Database\": SCHEMA_NAME},\n",
    "    ResultConfiguration = {\n",
    "        \"OutputLocation\": S3_STAGING_DIR,\n",
    "        \"EncryptionConfiguration\": {\"EncryptionOption\": \"SSE_S3\"},\n",
    "    },\n",
    ")\n",
    "\n",
    "us_county = download_and_load_query_results(athena_client, response)"
   ]
  },
  {
   "cell_type": "code",
   "execution_count": null,
   "metadata": {},
   "outputs": [],
   "source": [
    "#us_states download\n",
    "\n",
    "response = athena_client.start_query_execution(\n",
    "    QueryString = \"SELECT * FROM us_states limit 1000;\",\n",
    "    QueryExecutionContext = {\"Database\": SCHEMA_NAME},\n",
    "    ResultConfiguration = {\n",
    "        \"OutputLocation\": S3_STAGING_DIR,\n",
    "        \"EncryptionConfiguration\": {\"EncryptionOption\": \"SSE_S3\"},\n",
    "    },\n",
    ")\n",
    "\n",
    "us_states = download_and_load_query_results(athena_client, response)"
   ]
  },
  {
   "cell_type": "code",
   "execution_count": null,
   "metadata": {},
   "outputs": [],
   "source": [
    "#countrycode download\n",
    "\n",
    "response = athena_client.start_query_execution(\n",
    "    QueryString = \"SELECT * FROM countrycode limit 1000;\",\n",
    "    QueryExecutionContext = {\"Database\": SCHEMA_NAME},\n",
    "    ResultConfiguration = {\n",
    "        \"OutputLocation\": S3_STAGING_DIR,\n",
    "        \"EncryptionConfiguration\": {\"EncryptionOption\": \"SSE_S3\"},\n",
    "    },\n",
    ")\n",
    "\n",
    "countrycode = download_and_load_query_results(athena_client, response)"
   ]
  },
  {
   "cell_type": "code",
   "execution_count": null,
   "metadata": {},
   "outputs": [],
   "source": [
    "#countypopulation download\n",
    "\n",
    "response = athena_client.start_query_execution(\n",
    "    QueryString = \"SELECT * FROM countypopulation limit 1000;\",\n",
    "    QueryExecutionContext = {\"Database\": SCHEMA_NAME},\n",
    "    ResultConfiguration = {\n",
    "        \"OutputLocation\": S3_STAGING_DIR,\n",
    "        \"EncryptionConfiguration\": {\"EncryptionOption\": \"SSE_S3\"},\n",
    "    },\n",
    ")\n",
    "\n",
    "countypopulation = download_and_load_query_results(athena_client, response)"
   ]
  },
  {
   "cell_type": "code",
   "execution_count": null,
   "metadata": {},
   "outputs": [],
   "source": [
    "#rearc_usa_hospital_beds download\n",
    "\n",
    "response = athena_client.start_query_execution(\n",
    "    QueryString = \"SELECT * FROM rearc_usa_hospital_beds limit 1000;\",\n",
    "    QueryExecutionContext = {\"Database\": SCHEMA_NAME},\n",
    "    ResultConfiguration = {\n",
    "        \"OutputLocation\": S3_STAGING_DIR,\n",
    "        \"EncryptionConfiguration\": {\"EncryptionOption\": \"SSE_S3\"},\n",
    "    },\n",
    ")\n",
    "\n",
    "# rearc_usa_hospital_beds = download_and_load_query_results(athena_client, response)"
   ]
  },
  {
   "cell_type": "code",
   "execution_count": null,
   "metadata": {},
   "outputs": [],
   "source": [
    "#state_abv download\n",
    "\n",
    "response = athena_client.start_query_execution(\n",
    "    QueryString = \"SELECT * FROM state_abv limit 1000;\",\n",
    "    QueryExecutionContext = {\"Database\": SCHEMA_NAME},\n",
    "    ResultConfiguration = {\n",
    "        \"OutputLocation\": S3_STAGING_DIR,\n",
    "        \"EncryptionConfiguration\": {\"EncryptionOption\": \"SSE_S3\"},\n",
    "    },\n",
    ")\n",
    "\n",
    "state_abv = download_and_load_query_results(athena_client, response)\n",
    "state_abv.head()"
   ]
  },
  {
   "cell_type": "code",
   "execution_count": null,
   "metadata": {},
   "outputs": [],
   "source": [
    "#states_daily download\n",
    "\n",
    "response = athena_client.start_query_execution(\n",
    "    QueryString = \"SELECT * FROM states_daily limit 1000;\",\n",
    "    QueryExecutionContext = {\"Database\": SCHEMA_NAME},\n",
    "    ResultConfiguration = {\n",
    "        \"OutputLocation\": S3_STAGING_DIR,\n",
    "        \"EncryptionConfiguration\": {\"EncryptionOption\": \"SSE_S3\"},\n",
    "    },\n",
    ")\n",
    "\n",
    "states_daily = download_and_load_query_results(athena_client, response)\n",
    "states_daily.head()"
   ]
  },
  {
   "cell_type": "code",
   "execution_count": null,
   "metadata": {},
   "outputs": [],
   "source": [
    "#us_daily download\n",
    "\n",
    "response = athena_client.start_query_execution(\n",
    "    QueryString = \"SELECT * FROM us_daily limit 1000;\",\n",
    "    QueryExecutionContext = {\"Database\": SCHEMA_NAME},\n",
    "    ResultConfiguration = {\n",
    "        \"OutputLocation\": S3_STAGING_DIR,\n",
    "        \"EncryptionConfiguration\": {\"EncryptionOption\": \"SSE_S3\"},\n",
    "    },\n",
    ")\n",
    "\n",
    "us_daily = download_and_load_query_results(athena_client, response)"
   ]
  },
  {
   "cell_type": "code",
   "execution_count": null,
   "metadata": {},
   "outputs": [],
   "source": [
    "#us_total_latest download\n",
    "\n",
    "response = athena_client.start_query_execution(\n",
    "    QueryString = \"SELECT * FROM us_total_latest limit 1000;\",\n",
    "    QueryExecutionContext = {\"Database\": SCHEMA_NAME},\n",
    "    ResultConfiguration = {\n",
    "        \"OutputLocation\": S3_STAGING_DIR,\n",
    "        \"EncryptionConfiguration\": {\"EncryptionOption\": \"SSE_S3\"},\n",
    "    },\n",
    ")\n",
    "\n",
    "us_total_latest = download_and_load_query_results(athena_client, response)"
   ]
  },
  {
   "cell_type": "code",
   "execution_count": null,
   "metadata": {},
   "outputs": [],
   "source": [
    "# Cleaning data\n",
    "\n",
    "new_header = state_abv.iloc[0]\n",
    "state_abv = state_abv[1:]\n",
    "state_abv.columns = new_header\n",
    "state_abv.head()\n"
   ]
  },
  {
   "cell_type": "code",
   "execution_count": null,
   "metadata": {},
   "outputs": [],
   "source": [
    "## Extract columns from staging tables\n",
    "\n",
    "# Fact table\n",
    "\n",
    "factCovid_1 = engima_jhud[[\n",
    "    'fips','province_state','country_region','confirmed','deaths','recovered','active'\n",
    "]]\n",
    "factCovid_1\n"
   ]
  },
  {
   "cell_type": "code",
   "execution_count": null,
   "metadata": {},
   "outputs": [],
   "source": [
    "factCovid_2 = states_daily[[\n",
    "    'fips','date','positive','negative','hospitalizedcurrently','hospitalized','hospitalizeddischarged'\n",
    "]]\n",
    "factCovid_2"
   ]
  },
  {
   "cell_type": "code",
   "execution_count": null,
   "metadata": {},
   "outputs": [],
   "source": [
    "# Merging output table\n",
    "\n",
    "factCovid = pd.merge(factCovid_1, factCovid_2, on = 'fips', how = 'outer')\n",
    "factCovid"
   ]
  },
  {
   "cell_type": "code",
   "execution_count": null,
   "metadata": {},
   "outputs": [],
   "source": [
    "# Dimension tables\n",
    "\n",
    "dimRegion_1 = engima_jhud[[\n",
    "    'fips','province_state','country_region', 'latitude','longitude'\n",
    "]]\n",
    "\n",
    "dimRegion_2 = us_county[[\n",
    "    'fips','county','state'\n",
    "]]\n",
    "\n",
    "dimRegion = pd.merge(dimRegion_1, dimRegion_2, on = 'fips', how = 'inner')"
   ]
  },
  {
   "cell_type": "code",
   "execution_count": null,
   "metadata": {},
   "outputs": [],
   "source": []
  }
 ],
 "metadata": {
  "kernelspec": {
   "display_name": "Python 3",
   "language": "python",
   "name": "python3"
  },
  "language_info": {
   "codemirror_mode": {
    "name": "ipython",
    "version": 3
   },
   "file_extension": ".py",
   "mimetype": "text/x-python",
   "name": "python",
   "nbconvert_exporter": "python",
   "pygments_lexer": "ipython3",
   "version": "3.11.2"
  },
  "orig_nbformat": 4
 },
 "nbformat": 4,
 "nbformat_minor": 2
}
